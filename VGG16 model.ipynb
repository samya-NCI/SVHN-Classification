{
  "nbformat": 4,
  "nbformat_minor": 0,
  "metadata": {
    "colab": {
      "name": "Untitled",
      "provenance": [],
      "collapsed_sections": []
    },
    "kernelspec": {
      "name": "python3",
      "display_name": "Python 3"
    }
  },
  "cells": [
    {
      "cell_type": "code",
      "metadata": {
        "id": "Pmr1aIguAgkG",
        "colab_type": "code",
        "outputId": "5326f35b-d5d0-4a29-9b65-7ff8a203527c",
        "colab": {
          "base_uri": "https://localhost:8080/",
          "height": 34
        }
      },
      "source": [
        "import numpy as np\n",
        "import pandas as pd \n",
        "import matplotlib.pylab as plt\n",
        "import tensorflow as tf\n",
        "import scipy.io as sio\n",
        "from keras.applications.vgg16 import VGG16\n",
        "from keras.utils import to_categorical\n",
        "from matplotlib import pyplot"
      ],
      "execution_count": 0,
      "outputs": [
        {
          "output_type": "stream",
          "text": [
            "Using TensorFlow backend.\n"
          ],
          "name": "stderr"
        }
      ]
    },
    {
      "cell_type": "code",
      "metadata": {
        "id": "xp29N46_bKSY",
        "colab_type": "code",
        "outputId": "fda4360c-850d-4073-d104-7dec87388e4e",
        "colab": {
          "base_uri": "https://localhost:8080/",
          "height": 34
        }
      },
      "source": [
        "%cd /content/drive/My\\ Drive/\n",
        "training_data = sio.loadmat('train_32x32.mat')\n",
        "testing_data = sio.loadmat('test_32x32.mat')"
      ],
      "execution_count": 0,
      "outputs": [
        {
          "output_type": "stream",
          "text": [
            "/content/drive/My Drive\n"
          ],
          "name": "stdout"
        }
      ]
    },
    {
      "cell_type": "code",
      "metadata": {
        "id": "OihAIrfTcxfw",
        "colab_type": "code",
        "colab": {}
      },
      "source": [
        "X_tr, y_tr = training_data['X'], training_data['y']\n",
        "X_te, y_te = testing_data['X'], testing_data['y']"
      ],
      "execution_count": 0,
      "outputs": []
    },
    {
      "cell_type": "code",
      "metadata": {
        "id": "tjAiH9NXc65F",
        "colab_type": "code",
        "colab": {}
      },
      "source": [
        "classes = [0,1,2,3,4,5,6,7,8,9]\n",
        "num_classes = 10\n",
        "no_classes=11"
      ],
      "execution_count": 0,
      "outputs": []
    },
    {
      "cell_type": "code",
      "metadata": {
        "id": "RxNREpJedHTK",
        "colab_type": "code",
        "colab": {}
      },
      "source": [
        "X_tr = np.transpose(X_tr,(3,0,1,2))\n",
        "X_te = np.transpose(X_te,(3,0,1,2))"
      ],
      "execution_count": 0,
      "outputs": []
    },
    {
      "cell_type": "code",
      "metadata": {
        "id": "3rGiDh7ndUMg",
        "colab_type": "code",
        "colab": {}
      },
      "source": [
        "\n",
        "X_tr = X_tr.astype('float32') / 255\n",
        "X_te = X_te.astype('float32') / 255"
      ],
      "execution_count": 0,
      "outputs": []
    },
    {
      "cell_type": "code",
      "metadata": {
        "id": "bsNf4r7Vdb18",
        "colab_type": "code",
        "colab": {}
      },
      "source": [
        "\n",
        "y_tr = to_categorical(y_tr)\n",
        "y_te = to_categorical(y_te)"
      ],
      "execution_count": 0,
      "outputs": []
    },
    {
      "cell_type": "code",
      "metadata": {
        "id": "AjqtiovYc2pR",
        "colab_type": "code",
        "outputId": "3a9e86b7-1985-46ee-ec6c-5ac1b43f735b",
        "colab": {
          "base_uri": "https://localhost:8080/",
          "height": 50
        }
      },
      "source": [
        "print('Training set', X_tr.shape, y_tr.shape)\n",
        "print('Test set', X_te.shape, y_te.shape)"
      ],
      "execution_count": 0,
      "outputs": [
        {
          "output_type": "stream",
          "text": [
            "Training set (73257, 32, 32, 3) (73257, 11)\n",
            "Test set (26032, 32, 32, 3) (26032, 11)\n"
          ],
          "name": "stdout"
        }
      ]
    },
    {
      "cell_type": "code",
      "metadata": {
        "id": "_pK1C-vJuirh",
        "colab_type": "code",
        "colab": {}
      },
      "source": [
        "from keras import backend as K\n",
        "\n",
        "def rec(y_true, y_pred):\n",
        "    true_positives = K.sum(K.round(K.clip(y_true * y_pred, 0, 1)))\n",
        "    possible_positives = K.sum(K.round(K.clip(y_true, 0, 1)))\n",
        "    recall = true_positives / (possible_positives + K.epsilon())\n",
        "    return recall\n",
        "\n",
        "def pre(y_true, y_pred):\n",
        "    true_positives = K.sum(K.round(K.clip(y_true * y_pred, 0, 1)))\n",
        "    predicted_positives = K.sum(K.round(K.clip(y_pred, 0, 1)))\n",
        "    precision = true_positives / (predicted_positives + K.epsilon())\n",
        "    return precision\n",
        "\n",
        "def f1(y_true, y_pred):\n",
        "    precision = pre(y_true, y_pred)\n",
        "    recall = rec(y_true, y_pred)\n",
        "    return 2*((precision*recall)/(precision+recall+K.epsilon()))"
      ],
      "execution_count": 0,
      "outputs": []
    },
    {
      "cell_type": "code",
      "metadata": {
        "id": "ISnlabUjdsat",
        "colab_type": "code",
        "colab": {}
      },
      "source": [
        "#VGG16 model\n",
        "from keras.models import Sequential\n",
        "from keras.layers import Dense, Dropout, Flatten, Conv2D, MaxPooling2D\n",
        "\n",
        "model = Sequential()\n",
        "model.add(VGG16(include_top=True, weights=None, input_shape=X_tr[0].shape, pooling='max', classes=no_classes))\n",
        "model.compile(loss='categorical_crossentropy',\n",
        "              optimizer='adadelta',      \n",
        "              metrics=['acc',f1,pre, rec])"
      ],
      "execution_count": 0,
      "outputs": []
    },
    {
      "cell_type": "code",
      "metadata": {
        "id": "qMsh4FWLeIL-",
        "colab_type": "code",
        "outputId": "80b3ff2d-de1a-4ea5-dc73-15a2c1ff0ecf",
        "colab": {
          "base_uri": "https://localhost:8080/",
          "height": 185
        }
      },
      "source": [
        "#it shows the architecture of the model\n",
        "model.summary()"
      ],
      "execution_count": 0,
      "outputs": [
        {
          "output_type": "stream",
          "text": [
            "Model: \"sequential_1\"\n",
            "_________________________________________________________________\n",
            "Layer (type)                 Output Shape              Param #   \n",
            "=================================================================\n",
            "vgg16 (Model)                (None, 11)                33642315  \n",
            "=================================================================\n",
            "Total params: 33,642,315\n",
            "Trainable params: 33,642,315\n",
            "Non-trainable params: 0\n",
            "_________________________________________________________________\n"
          ],
          "name": "stdout"
        }
      ]
    },
    {
      "cell_type": "code",
      "metadata": {
        "id": "lFvNJRvlkeu-",
        "colab_type": "code",
        "colab": {}
      },
      "source": [
        "model_history = model.fit(X_tr, y_tr, batch_size=200, epochs=10, validation_split = 0.1)"
      ],
      "execution_count": 0,
      "outputs": []
    },
    {
      "cell_type": "code",
      "metadata": {
        "id": "LG6I55YNgGSU",
        "colab_type": "code",
        "outputId": "b5480977-b0d6-4486-9229-44f771564f9b",
        "colab": {
          "base_uri": "https://localhost:8080/",
          "height": 295
        }
      },
      "source": [
        "#Here we plot the performance of the model on the training and validation data.\n",
        "plt.plot(model_history.history[\"acc\"])\n",
        "plt.plot(model_history.history['val_acc'])\n",
        "plt.plot(model_history.history['loss'])\n",
        "plt.plot(model_history.history['val_loss'])\n",
        "plt.title('VGG16 Model Performance')\n",
        "plt.ylabel('Accuracy')\n",
        "plt.xlabel('Epoch')\n",
        "plt.legend([\"Train Accuracy\",\"Validation Accuracy\",\"Train loss\",\"Validation Loss\"])\n",
        "plt.show()"
      ],
      "execution_count": 0,
      "outputs": [
        {
          "output_type": "display_data",
          "data": {
            "image/png": "[encoded data removed]",
            "text/plain": [
              "<Figure size 432x288 with 1 Axes>"
            ]
          },
          "metadata": {
            "tags": [],
            "needs_background": "light"
          }
        }
      ]
    },
    {
      "cell_type": "code",
      "metadata": {
        "id": "vkOEMlqnsNso",
        "colab_type": "code",
        "colab": {}
      },
      "source": [
        "import matplotlib.pyplot as plt\n",
        "plt.plot(hist.history[\"acc\"])\n",
        "plt.plot(hist.history['val_acc'])\n",
        "plt.plot(hist.history['loss'])\n",
        "plt.plot(hist.history['val_loss'])\n",
        "plt.title(\"model accuracy\")\n",
        "plt.ylabel(\"Accuracy\")\n",
        "plt.xlabel(\"Epoch\")\n",
        "plt.legend([\"Accuracy\",\"Validation Accuracy\",\"loss\",\"Validation Loss\"])\n",
        "plt.show()"
      ],
      "execution_count": 0,
      "outputs": []
    },
    {
      "cell_type": "code",
      "metadata": {
        "id": "du_ek7drgyRZ",
        "colab_type": "code",
        "outputId": "f77eea74-a470-4c88-9591-f5326372e240",
        "colab": {
          "base_uri": "https://localhost:8080/",
          "height": 50
        }
      },
      "source": [
        "#Here we calculate the accuracy of the model\n",
        "score = model.evaluate(X_te, y_te, verbose=0)\n",
        "print('Test loss:', score[0])\n",
        "print('Test accuracy:', score[1])"
      ],
      "execution_count": 0,
      "outputs": [
        {
          "output_type": "stream",
          "text": [
            "Test loss: 0.415358730697373\n",
            "Test accuracy: 0.9397280216217041\n"
          ],
          "name": "stdout"
        }
      ]
    },
    {
      "cell_type": "code",
      "metadata": {
        "id": "VZ9GsotHvAK2",
        "colab_type": "code",
        "colab": {}
      },
      "source": [
        "loss, accuracy, f1_score, precision, recall = model.evaluate(X_te, y_te, verbose=0)"
      ],
      "execution_count": 0,
      "outputs": []
    },
    {
      "cell_type": "code",
      "metadata": {
        "id": "UiYAH5C9yZSA",
        "colab_type": "code",
        "outputId": "3d3a4a53-941f-4bd1-f4b3-22c6015df980",
        "colab": {
          "base_uri": "https://localhost:8080/",
          "height": 101
        }
      },
      "source": [
        "print(loss)\n",
        "print(accuracy)\n",
        "print(f1_score)\n",
        "print(precision)\n",
        "print(recall)"
      ],
      "execution_count": 0,
      "outputs": [
        {
          "output_type": "stream",
          "text": [
            "0.415358730697373\n",
            "0.9397280216217041\n",
            "0.9406531453132629\n",
            "0.9424850344657898\n",
            "0.938882052898407\n"
          ],
          "name": "stdout"
        }
      ]
    },
    {
      "cell_type": "code",
      "metadata": {
        "id": "93DhGjehuBg7",
        "colab_type": "code",
        "colab": {}
      },
      "source": [
        "res_test = model.predict(X_te)"
      ],
      "execution_count": 0,
      "outputs": []
    },
    {
      "cell_type": "code",
      "metadata": {
        "id": "pClGrwXQucJT",
        "colab_type": "code",
        "outputId": "6759571a-cefd-4677-bb8f-6493007043b7",
        "colab": {
          "base_uri": "https://localhost:8080/",
          "height": 343
        }
      },
      "source": [
        "res_test = pd.DataFrame({'true':np.argmax(y_te, axis=1), 'guess':np.argmax(res_test, axis=1), 'trust':np.max(res_test, axis=1)})\n",
        "res_test.head(10)"
      ],
      "execution_count": 0,
      "outputs": [
        {
          "output_type": "execute_result",
          "data": {
            "text/html": [
              "<div>\n",
              "<style scoped>\n",
              "    .dataframe tbody tr th:only-of-type {\n",
              "        vertical-align: middle;\n",
              "    }\n",
              "\n",
              "    .dataframe tbody tr th {\n",
              "        vertical-align: top;\n",
              "    }\n",
              "\n",
              "    .dataframe thead th {\n",
              "        text-align: right;\n",
              "    }\n",
              "</style>\n",
              "<table border=\"1\" class=\"dataframe\">\n",
              "  <thead>\n",
              "    <tr style=\"text-align: right;\">\n",
              "      <th></th>\n",
              "      <th>true</th>\n",
              "      <th>guess</th>\n",
              "      <th>trust</th>\n",
              "    </tr>\n",
              "  </thead>\n",
              "  <tbody>\n",
              "    <tr>\n",
              "      <th>0</th>\n",
              "      <td>5</td>\n",
              "      <td>5</td>\n",
              "      <td>0.993704</td>\n",
              "    </tr>\n",
              "    <tr>\n",
              "      <th>1</th>\n",
              "      <td>2</td>\n",
              "      <td>2</td>\n",
              "      <td>0.995610</td>\n",
              "    </tr>\n",
              "    <tr>\n",
              "      <th>2</th>\n",
              "      <td>1</td>\n",
              "      <td>1</td>\n",
              "      <td>0.999996</td>\n",
              "    </tr>\n",
              "    <tr>\n",
              "      <th>3</th>\n",
              "      <td>10</td>\n",
              "      <td>10</td>\n",
              "      <td>0.993434</td>\n",
              "    </tr>\n",
              "    <tr>\n",
              "      <th>4</th>\n",
              "      <td>6</td>\n",
              "      <td>6</td>\n",
              "      <td>0.956039</td>\n",
              "    </tr>\n",
              "    <tr>\n",
              "      <th>5</th>\n",
              "      <td>1</td>\n",
              "      <td>1</td>\n",
              "      <td>0.999817</td>\n",
              "    </tr>\n",
              "    <tr>\n",
              "      <th>6</th>\n",
              "      <td>9</td>\n",
              "      <td>9</td>\n",
              "      <td>0.995883</td>\n",
              "    </tr>\n",
              "    <tr>\n",
              "      <th>7</th>\n",
              "      <td>1</td>\n",
              "      <td>1</td>\n",
              "      <td>1.000000</td>\n",
              "    </tr>\n",
              "    <tr>\n",
              "      <th>8</th>\n",
              "      <td>1</td>\n",
              "      <td>1</td>\n",
              "      <td>0.999993</td>\n",
              "    </tr>\n",
              "    <tr>\n",
              "      <th>9</th>\n",
              "      <td>8</td>\n",
              "      <td>8</td>\n",
              "      <td>0.999999</td>\n",
              "    </tr>\n",
              "  </tbody>\n",
              "</table>\n",
              "</div>"
            ],
            "text/plain": [
              "   true  guess     trust\n",
              "0     5      5  0.993704\n",
              "1     2      2  0.995610\n",
              "2     1      1  0.999996\n",
              "3    10     10  0.993434\n",
              "4     6      6  0.956039\n",
              "5     1      1  0.999817\n",
              "6     9      9  0.995883\n",
              "7     1      1  1.000000\n",
              "8     1      1  0.999993\n",
              "9     8      8  0.999999"
            ]
          },
          "metadata": {
            "tags": []
          },
          "execution_count": 18
        }
      ]
    },
    {
      "cell_type": "code",
      "metadata": {
        "id": "VpbBcVWmuuts",
        "colab_type": "code",
        "outputId": "2df6583c-454d-4177-9d90-0cb4189e7875",
        "colab": {
          "base_uri": "https://localhost:8080/",
          "height": 343
        }
      },
      "source": [
        "errors = res_test[res_test.true != res_test.guess].sort_values('trust', ascending=False)\n",
        "errors.head(10)"
      ],
      "execution_count": 0,
      "outputs": [
        {
          "output_type": "execute_result",
          "data": {
            "text/html": [
              "<div>\n",
              "<style scoped>\n",
              "    .dataframe tbody tr th:only-of-type {\n",
              "        vertical-align: middle;\n",
              "    }\n",
              "\n",
              "    .dataframe tbody tr th {\n",
              "        vertical-align: top;\n",
              "    }\n",
              "\n",
              "    .dataframe thead th {\n",
              "        text-align: right;\n",
              "    }\n",
              "</style>\n",
              "<table border=\"1\" class=\"dataframe\">\n",
              "  <thead>\n",
              "    <tr style=\"text-align: right;\">\n",
              "      <th></th>\n",
              "      <th>true</th>\n",
              "      <th>guess</th>\n",
              "      <th>trust</th>\n",
              "    </tr>\n",
              "  </thead>\n",
              "  <tbody>\n",
              "    <tr>\n",
              "      <th>15700</th>\n",
              "      <td>3</td>\n",
              "      <td>10</td>\n",
              "      <td>1.000000</td>\n",
              "    </tr>\n",
              "    <tr>\n",
              "      <th>8251</th>\n",
              "      <td>8</td>\n",
              "      <td>1</td>\n",
              "      <td>1.000000</td>\n",
              "    </tr>\n",
              "    <tr>\n",
              "      <th>7953</th>\n",
              "      <td>2</td>\n",
              "      <td>1</td>\n",
              "      <td>1.000000</td>\n",
              "    </tr>\n",
              "    <tr>\n",
              "      <th>12652</th>\n",
              "      <td>2</td>\n",
              "      <td>1</td>\n",
              "      <td>1.000000</td>\n",
              "    </tr>\n",
              "    <tr>\n",
              "      <th>6492</th>\n",
              "      <td>1</td>\n",
              "      <td>3</td>\n",
              "      <td>0.999998</td>\n",
              "    </tr>\n",
              "    <tr>\n",
              "      <th>1317</th>\n",
              "      <td>1</td>\n",
              "      <td>5</td>\n",
              "      <td>0.999998</td>\n",
              "    </tr>\n",
              "    <tr>\n",
              "      <th>1318</th>\n",
              "      <td>5</td>\n",
              "      <td>10</td>\n",
              "      <td>0.999995</td>\n",
              "    </tr>\n",
              "    <tr>\n",
              "      <th>22882</th>\n",
              "      <td>8</td>\n",
              "      <td>4</td>\n",
              "      <td>0.999992</td>\n",
              "    </tr>\n",
              "    <tr>\n",
              "      <th>1933</th>\n",
              "      <td>8</td>\n",
              "      <td>1</td>\n",
              "      <td>0.999974</td>\n",
              "    </tr>\n",
              "    <tr>\n",
              "      <th>11844</th>\n",
              "      <td>5</td>\n",
              "      <td>1</td>\n",
              "      <td>0.999973</td>\n",
              "    </tr>\n",
              "  </tbody>\n",
              "</table>\n",
              "</div>"
            ],
            "text/plain": [
              "       true  guess     trust\n",
              "15700     3     10  1.000000\n",
              "8251      8      1  1.000000\n",
              "7953      2      1  1.000000\n",
              "12652     2      1  1.000000\n",
              "6492      1      3  0.999998\n",
              "1317      1      5  0.999998\n",
              "1318      5     10  0.999995\n",
              "22882     8      4  0.999992\n",
              "1933      8      1  0.999974\n",
              "11844     5      1  0.999973"
            ]
          },
          "metadata": {
            "tags": []
          },
          "execution_count": 19
        }
      ]
    },
    {
      "cell_type": "code",
      "metadata": {
        "id": "vzzkvWryvBSw",
        "colab_type": "code",
        "outputId": "cd6a33d1-845f-4f27-8740-8871e7ab2bca",
        "colab": {
          "base_uri": "https://localhost:8080/",
          "height": 34
        }
      },
      "source": [
        "print('Percentage of error %4.2f %%' % (100 * len(errors)/len(X_te)))"
      ],
      "execution_count": 0,
      "outputs": [
        {
          "output_type": "stream",
          "text": [
            "Percentage of error 6.29 %\n"
          ],
          "name": "stdout"
        }
      ]
    },
    {
      "cell_type": "code",
      "metadata": {
        "id": "xV9okc-BvKib",
        "colab_type": "code",
        "outputId": "0bb27dc7-6620-4042-b967-42f4459351c3",
        "colab": {
          "base_uri": "https://localhost:8080/",
          "height": 367
        }
      },
      "source": [
        "i = 16000 #1318\n",
        "res = model.predict(X_te[i][None,:,:])  # None permet d'augmenter la dimension du tableau (sans on a un message d'erreur clair)\n",
        "print(\"Image\", i)\n",
        "print(f\"Model says it is a {np.argmax(res)} while it is a {np.argmax(y_te[i])}\")\n",
        "print(\"Stats are\", np.array(res))\n",
        "plt.imshow(X_te[i])"
      ],
      "execution_count": 0,
      "outputs": [
        {
          "output_type": "stream",
          "text": [
            "Image 16000\n",
            "Model says it is a 2 while it is a 2\n",
            "Stats are [[8.2031043e-08 1.2527689e-03 9.9537945e-01 1.0992278e-03 4.5570027e-04\n",
            "  5.9784675e-04 2.9161619e-04 2.8193256e-04 2.4634533e-04 2.0914337e-04\n",
            "  1.8599858e-04]]\n"
          ],
          "name": "stdout"
        },
        {
          "output_type": "execute_result",
          "data": {
            "text/plain": [
              "<matplotlib.image.AxesImage at 0x7f90c5ce4390>"
            ]
          },
          "metadata": {
            "tags": []
          },
          "execution_count": 21
        },
        {
          "output_type": "display_data",
          "data": {
            "image/png": "[encoded data removed]",
            "text/plain": [
              "<Figure size 432x288 with 1 Axes>"
            ]
          },
          "metadata": {
            "tags": [],
            "needs_background": "light"
          }
        }
      ]
    },
    {
      "cell_type": "code",
      "metadata": {
        "id": "QHADjrTrI9_v",
        "colab_type": "code",
        "outputId": "d6f3ea06-d309-4e2a-b856-684915d60db7",
        "colab": {
          "base_uri": "https://localhost:8080/",
          "height": 281
        }
      },
      "source": [
        "pyplot.subplot(211)\n",
        "pyplot.title('Loss')\n",
        "pyplot.plot(model_history.history['loss'], label='train')\n",
        "pyplot.plot(model_history.history['val_loss'], label='validation')\n",
        "pyplot.legend()\n",
        "# plot accuracy during training\n",
        "pyplot.subplot(212)\n",
        "pyplot.title('Accuracy')\n",
        "pyplot.plot(model_history.history['acc'], label='train')\n",
        "pyplot.plot(model_history.history['val_acc'], label='Validation')\n",
        "pyplot.legend()\n",
        "pyplot.show()\n"
      ],
      "execution_count": 0,
      "outputs": [
        {
          "output_type": "display_data",
          "data": {
            "image/png": "[encoded data removed]",
            "text/plain": [
              "<Figure size 432x288 with 2 Axes>"
            ]
          },
          "metadata": {
            "tags": [],
            "needs_background": "light"
          }
        }
      ]
    }
  ]
}